{
 "cells": [
  {
   "cell_type": "code",
   "execution_count": null,
   "metadata": {},
   "outputs": [],
   "source": [
    "# Install all requirements from PyPI.\n",
    "!python3 -m pip install numpy scipy matplotlib numba tensorflow-gpu librosa sndfile mir_eval soundfile requests flask frozendict --user"
   ]
  },
  {
   "cell_type": "code",
   "execution_count": null,
   "metadata": {},
   "outputs": [],
   "source": [
    "# Let's get down to business.\n",
    "# We need to start a evolution server to manage our evolution process.\n",
    "# This server needs no GPU or fast CPU, it runs like a charm on a very low-end server.\n",
    "# Enter the `srv` directory\n",
    "%cd srv\n",
    "\n",
    "# You should edit `config.py`, modify these variables properly:\n",
    "# listen_addr, listen_port, n_gen, evo_type, worker_type\n",
    "# For local network, set listen_addr to your local ip address.\n",
    "# For Internet, install nginx, setup reverse proxy and http authentication.\n",
    "# ⚠️SECURITY WARNING: Do NOT expose your server directly to public network. The server has no security check.⚠️\n",
    "# Then run it.\n",
    "!python3 main_srv.py\n",
    "# You can exit the server by Ctrl-C and restart it at any time, the last unfinished checkpoint will loss.\n",
    "# When all tasks are finished, the server will exit automatically.\n",
    "\n",
    "# Notice: To reproduce the paper, you need run the server multiple times with conifguration below:\n",
    "# n_gen=50, evo_type=\"g1\", worker_type=\"mir2\"\n",
    "# n_gen=50, evo_type=\"g1\", worker_type=\"dsd2\"\n",
    "# n_gen=100, evo_type=\"nsga2\", worker_type=\"mir2\"\n",
    "# n_gen=100, evo_type=\"nsga2\", worker_type=\"dsd2\"\n",
    "\n",
    "# Return to the project root directory\n",
    "%cd .."
   ]
  },
  {
   "cell_type": "code",
   "execution_count": null,
   "metadata": {},
   "outputs": [],
   "source": [
    "# Okay, now we have evolution checkpoints.\n",
    "# To reproduce our paper, ensure checkpoint directory below has been generated:\n",
    "# `v1_g1_mir2_0.0` `v1_g1_dsd2_0.0` `v1_nsga2_mir2_0.0` `v1_nsga2_dsd2_0.0`\n",
    "# Let's do a full training and evaluating for structures that we interested in.\n",
    "# There are too many gene structures to train and evaluate, so we have to do these work automatically.\n",
    "# We used the `eval_script.gen` file to manage all gene structures.\n",
    "# Enter the `final_eval` directory\n",
    "%cd final_eval\n",
    "\n",
    "# Generate `eval_script.gen` from evolution checkpoints automatically.\n",
    "# The `plot_g1_stat.py` reads Single Objective evolution checkpoints and print best gene over generations.\n",
    "# The `plot_nsga2_stat.py` reads NSGA2 evolution checkpoints and print below genes over generations:\n",
    "## The gene which has least paramter count within a generation\n",
    "## The gene which has near-25% highest parameter count(rec_25 line in figure)\n",
    "## The gene which has near-33% highest parameter count\n",
    "## The gene which has near-50% highest parameter count(rec_50 line in figure)\n",
    "## The gene which has near-66% highest parameter count\n",
    "## The gene which has near-75% highest parameter count(rec_75 line in figure)\n",
    "## The gene which has near-90% highest parameter count\n",
    "## The gene which has best score within a generation\n",
    "# Syntax of `eval_script.gen`:\n",
    "# {str:ver} {str:g1|nsga2} {str:mir2|dsd2} {int:gene} {str:internal_name} [str:external_name]\n",
    "# ! mark means a commented line\n",
    "\n",
    "# Load the module `../lib/redirect.py`\n",
    "import sys\n",
    "sys.path.append(\"../lib\")\n",
    "import redirect\n",
    "%matplotlib inline\n",
    "\n",
    "# Redirect stdout to StringIO buffer to capture outputs from `plot_g1_stat.py` and `plot_nsga2_stat.py`\n",
    "# The plotted figure\n",
    "with redirect.ConsoleToBuffer(redirect_stdout=True, redirect_stderr=False) as r:\n",
    "    print(\"* mir2\", file=r.real_stdout)\n",
    "    print(\"!!! MIR2\")\n",
    "    print(\"v1 any mir2 4182591019167972528534244115322478782824676 manual Seed\") # Output the seed gene manually\n",
    "    %run ../figtex/plot_g1_stat.py -dataset=mir2 -score=test -input=../srv/v1_g1_mir2_0.0\n",
    "    %run ../figtex/plot_nsga2_stat.py -dataset=mir2 -score=test -input=../srv/v1_nsga2_mir2_0.0\n",
    "\n",
    "    print(\"* dsd2\", file=r.real_stdout)\n",
    "    print(\"\\n!!! DSD2\")\n",
    "    print(\"v1 any dsd2 4182591019167972528534244115322478782824676 manual Seed\") # Output the seed gene manually\n",
    "    %run ../figtex/plot_g1_stat.py -dataset=dsd2 -score=test -input=../srv/v1_g1_dsd2_0.0\n",
    "    %run ../figtex/plot_nsga2_stat.py -dataset=dsd2 -score=test -input=../srv/v1_nsga2_dsd2_0.0\n",
    "    txt = r.fake_stdout.getvalue()\n",
    "print(txt)\n",
    "\n",
    "# Write `eval_script.gen`\n",
    "with open(\"eval_script.gen\", \"wb\") as f:\n",
    "    f.write(txt.encode(\"utf-8\"))"
   ]
  },
  {
   "cell_type": "code",
   "execution_count": null,
   "metadata": {},
   "outputs": [],
   "source": [
    "# We got the `eval_script.gen`, let's generate a bash script to start the training and evaluating process.\n",
    "# Notice that we still in the `final_eval` directory\n",
    "\n",
    "# Because there are too many gene structures, it would be better to run these tasks in multiple computers.\n",
    "# The script `gen_eval.py` can estimate a very coarse speed for several GPU model, and assign task \n",
    "# to each machines with balance.\n",
    "# For example run `python3 gen_eval.py titan_rtx@pc titan_v@mattia titan_xp@pluto 1080ti@judas 1080ti@deepin`\n",
    "# will generate scripts for these 5 machines with specified GPU model.\n",
    "#\n",
    "# In this jupyter notebook, as a demo, we generate script for only single machine.\n",
    "!python3 gen_eval.py gpumodel@hostname # generate `do_hostname.sh`\n",
    "\n",
    "# Run the generated bash script.\n",
    "# It will take a really long time if you have only one GPU.\n",
    "# Modify variables in `config.py`, set correct dataset path before run this bash script!\n",
    "!bash -e do_hostname.sh\n",
    "\n",
    "# Once you are finished, checkpoints and evaluating results will be stored in \n",
    "# directory `./ckpt` and `./eval_output`. Copy and merge them from your machines.\n",
    "\n",
    "# Filter evalutaed data into directory `./extracted_eval_result`\n",
    "!python3 extract_eval_result.py -step63000 -step630000 # by default 63000 for mir2, 630000 for dsd2"
   ]
  },
  {
   "cell_type": "code",
   "execution_count": null,
   "metadata": {},
   "outputs": [],
   "source": [
    "# Let's generate figures and LaTeX files from our experimental results\n",
    "# Enter the `figtex` directory\n",
    "%cd ../figtex/\n",
    "\n",
    "# Draw all figures and tables\n",
    "!python3 gen_net_performance_tab.py\n",
    "!bash -e draw_all.sh"
   ]
  },
  {
   "cell_type": "code",
   "execution_count": null,
   "metadata": {},
   "outputs": [],
   "source": [
    "# Unmix demo songs and draw spectrogram used in paper\n",
    "# Modify `split_over_all.sh`, set `DATASET_PATH` to your MIR-1K Wavefile path.\n",
    "# Modify `gene_list.sh`, set correct `GENE_LIST` and `NAME_LIST`.\n",
    "!bash -e split_over_all.sh geniusturtle_5_03\n",
    "!bash -e split_over_all.sh geniusturtle_6_04\n",
    "# Output `../analyze_*`\n",
    "\n",
    "# Return to the project root directory\n",
    "%cd .."
   ]
  },
  {
   "cell_type": "code",
   "execution_count": null,
   "metadata": {},
   "outputs": [],
   "source": [
    "# We have done all the stuff in our paper。\n",
    "# You can use trained models with `split_song.py`\n",
    "# Here is an example.\n",
    "# Enter the `final_eval` directory\n",
    "%cd final_eval\n",
    "\n",
    "# Find a gene value from `eval_script.gen`, fill into the argument\n",
    "# `-no_mix` means we don't want to mixdown the input file into mono\n",
    "!python3 split_song.py -ver=v1 -dataset=<str> -gene=<int> -step=<int> -no_mix -input=<wavfile>\n",
    "# produces `split_inst_<filename>.wav` and `split_vocal_<filename>.wav`\n",
    "# For example, !python3 split_song.py -ver=v1 -dataset=mir2 -gene=4182591019167972528534244115322478782824676 -step=63000 -no_mix -input=./one_half.wav\n",
    "# will produce `split_inst_one_half.wav` and `split_vocal_one_half.wav`."
   ]
  }
 ],
 "metadata": {
  "kernelspec": {
   "display_name": "Python 3",
   "language": "python",
   "name": "python3"
  },
  "language_info": {
   "codemirror_mode": {
    "name": "ipython",
    "version": 3
   },
   "file_extension": ".py",
   "mimetype": "text/x-python",
   "name": "python",
   "nbconvert_exporter": "python",
   "pygments_lexer": "ipython3",
   "version": "3.8.0"
  }
 },
 "nbformat": 4,
 "nbformat_minor": 2
}
